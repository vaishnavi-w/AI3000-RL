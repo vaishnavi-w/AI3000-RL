{
  "nbformat": 4,
  "nbformat_minor": 0,
  "metadata": {
    "colab": {
      "provenance": []
    },
    "kernelspec": {
      "name": "python3",
      "display_name": "Python 3"
    },
    "language_info": {
      "name": "python"
    }
  },
  "cells": [
    {
      "cell_type": "code",
      "source": [
        "# AI20BTECH11025\n",
        "import numpy as np\n",
        "import matplotlib.pyplot as plt\n",
        "import random\n",
        "import math\n",
        "from copy import deepcopy"
      ],
      "metadata": {
        "id": "jt1mqYCTvhEz"
      },
      "execution_count": 480,
      "outputs": []
    },
    {
      "cell_type": "code",
      "source": [
        "board_size = 3\n",
        "class Tictactoe():\n",
        "    def __init__(self, n):\n",
        "        self.size = n\n",
        "        self.board = np.zeros((n,n), dtype='U1')\n",
        "        self.player = 'x'\n",
        "        self.end = False\n",
        "\n",
        "    def act(self, pos):\n",
        "        if self.board[pos] == '' :\n",
        "            self.board[pos] = self.player\n",
        "            self.player = 'x' if self.player == 'o' else 'o'\n",
        "        else : \n",
        "            print('Move is invalid')\n",
        "     \n",
        "    def print_board(self):\n",
        "        print(self.board[0,0], ' | ',self.board[0,1], ' | ',self.board[0,2])\n",
        "        print('-----------')\n",
        "        print(self.board[1,0], ' | ',self.board[1,1], ' | ',self.board[1,2])\n",
        "        print('------------')\n",
        "        print(self.board[2,0], ' | ',self.board[2,1], ' | ',self.board[2,2])        \n",
        "    \n",
        "    def state(self):\n",
        "        return str(self.board.reshape(self.size * self.size))\n",
        "\n",
        "    def availablepositions(self):\n",
        "        positions = []\n",
        "        for i in range(self.size):\n",
        "            for j in range(self.size):\n",
        "                if self.board[i, j] == '': \n",
        "                    positions.append((i, j))\n",
        "        return positions\n",
        "\n",
        "    def checkwinner(self):\n",
        "        # Along any row\n",
        "        for i in range(self.size):\n",
        "            if sum(np.char.count(self.board[i, :], 'x')) == self.size:\n",
        "                self.end = True\n",
        "                return 'x'\n",
        "            if sum(np.char.count(self.board[i, :], 'o')) == self.size:\n",
        "                self.end = True\n",
        "                return 'o'\n",
        "        \n",
        "        # Along any column\n",
        "        for i in range(self.size):\n",
        "            if sum(np.char.count(self.board[:, i], 'x')) == self.size:\n",
        "                self.end = True\n",
        "                return 'x'\n",
        "            if sum(np.char.count(self.board[:, i], 'o')) == self.size:\n",
        "                self.end = True\n",
        "                return 'o'\n",
        "\n",
        "        # Along any diagonal\n",
        "        if sum(np.char.count(self.board.diagonal(), 'x')) == self.size:\n",
        "              self.end = True\n",
        "              return 'x'\n",
        "        if sum(np.char.count(self.board.diagonal(), 'o')) == self.size:\n",
        "              self.end = True\n",
        "              return 'o'\n",
        "        if sum(np.char.count((self.board[::-1]).diagonal(), 'x')) == self.size:\n",
        "              self.end = True\n",
        "              return 'x'\n",
        "        if sum(np.char.count((self.board[::-1]).diagonal(), 'o')) == self.size:\n",
        "              self.end = True\n",
        "              return 'o'\n",
        "            \n",
        "        # Tie : No available positions\n",
        "        if len(self.availablepositions()) == 0: \n",
        "              self.end = True\n",
        "              return 0\n",
        "\n",
        "        # If any moves available\n",
        "        self.end = False\n",
        "        return -1\n",
        "\n",
        "    def reward(self):\n",
        "        if self.checkwinner() == 'x':\n",
        "            return 1\n",
        "        if self.checkwinner() == 'o':\n",
        "            return -1\n",
        "        if self.checkwinner() == 0:\n",
        "            return 0.5\n",
        "        return 0"
      ],
      "metadata": {
        "id": "QYGtbdFKv8-j"
      },
      "execution_count": 481,
      "outputs": []
    },
    {
      "cell_type": "code",
      "source": [
        "# Defining a tree node\n",
        "class Node(Tictactoe):\n",
        "    def __init__(self, player, parent, board):\n",
        "        super().__init__(board_size)\n",
        "        self.visits = 0\n",
        "        self.score = 0\n",
        "        self.player = player\n",
        "        self.board = board\n",
        "        self.parent = parent\n",
        "        self.children = {}   # Dictionary of child nodes\n",
        "        self.is_leaf = True \n",
        "\n",
        "        # Check if the node is a leaf node\n",
        "        # Any moves available -> Not a leaf node\n",
        "        if self.checkwinner() == -1:\n",
        "            self.is_leaf = False\n",
        "\n",
        "        # If leaf, then the node is fully expanded\n",
        "        self.fully_expanded = self.is_leaf"
      ],
      "metadata": {
        "id": "FR9JvHEr5r5V"
      },
      "execution_count": 482,
      "outputs": []
    },
    {
      "cell_type": "code",
      "source": [
        "class MCTS():\n",
        "    def __init__(self, rootnode, K):\n",
        "        self.rootnode = rootnode\n",
        "        self.K = K\n",
        "\n",
        "    def mcts(self):\n",
        "        for k in range(self.K):\n",
        "            leaf = self.traverse(self.rootnode)\n",
        "\n",
        "            temp_leaf = deepcopy(leaf)\n",
        "            simresult = self.rollout(temp_leaf)\n",
        "\n",
        "            self.backpropogation(simresult, leaf)\n",
        "\n",
        "        best_score = float('-inf')\n",
        "        for child in self.rootnode.children.values():\n",
        "            ucb = (child.score / child.visits) \n",
        "            if ucb > best_score:\n",
        "                best_score = ucb\n",
        "                best_child = [(i, j) for i in range(board_size) for j in range(board_size) if child.board[i, j] != self.rootnode.board[i, j]]\n",
        "\n",
        "        return best_child[0]\n",
        "\n",
        "    def backpropogation(self, simresult, node):\n",
        "        while node is not None:\n",
        "            node.score += simresult\n",
        "            node.visits += 1\n",
        "            node = node.parent\n",
        "            \n",
        "    def rollout(self, node):\n",
        "        while node.checkwinner() == -1:\n",
        "            random_move = random.choice(node.availablepositions())\n",
        "            node.act(random_move)\n",
        "        \n",
        "        return node.reward()\n",
        "        \n",
        "    def traverse(self, node):\n",
        "        while node.checkwinner() == -1:\n",
        "            if node.fully_expanded:\n",
        "                node = self.next_best_move(node)\n",
        "            else:\n",
        "                return self.randomexpandedchild(node)         \n",
        "        \n",
        "        return node\n",
        "\n",
        "    def randomexpandedchild(self, node):\n",
        "        pos = node.availablepositions()\n",
        "        for p in pos:\n",
        "            if str(p) not in node.children:\n",
        "                new_node = Node(node.player, node, node.board.copy())\n",
        "                new_node.act(p)\n",
        "\n",
        "                if new_node.checkwinner() == -1:\n",
        "                    new_node.is_leaf = False\n",
        "                else:\n",
        "                    new_node.is_leaf = True\n",
        "\n",
        "                node.children[str(p)] = new_node\n",
        "\n",
        "                if len(pos) == len(node.children):\n",
        "                    node.fully_expanded = True       \n",
        "\n",
        "                return new_node\n",
        "                \n",
        "    def next_best_move(self, node):\n",
        "        best_score = float('-inf')\n",
        "        best_child = []\n",
        "        for child in node.children.values():\n",
        "            if child.visits == 0:\n",
        "                return child\n",
        "            ucb = (child.score / child.visits) + np.sqrt(node.visits / child.visits)\n",
        "            if ucb > best_score:\n",
        "                best_score = ucb\n",
        "                best_child.append(child)\n",
        "       \n",
        "        return random.choice(best_child)"
      ],
      "metadata": {
        "id": "6z221yMdrumX"
      },
      "execution_count": 483,
      "outputs": []
    },
    {
      "cell_type": "code",
      "source": [
        "class RandomAgent():\n",
        "\n",
        "    def __init__(self):\n",
        "        pass\n",
        "    \n",
        "    def policy(self, env):\n",
        "        positions = env.availablepositions()\n",
        "        return random.choice(positions)"
      ],
      "metadata": {
        "id": "wDV468D7HGA0"
      },
      "execution_count": 484,
      "outputs": []
    },
    {
      "cell_type": "code",
      "source": [
        "class SafeAgent():\n",
        "\n",
        "    def __init__(self):\n",
        "        pass\n",
        "    \n",
        "    def policy(self, env):\n",
        "        positions = env.availablepositions()\n",
        "        \n",
        "        # Win along any row\n",
        "        for i in range(env.size):\n",
        "            if sum(np.char.count(env.board[i, :], 'x')) == env.size - 1 and sum(np.char.count(env.board[i, :], 'o')) == 0:\n",
        "                for j in range(env.size):\n",
        "                    if env.board[i, j] == '': \n",
        "                        return (i, j)\n",
        "\n",
        "        # Win along any column\n",
        "        for i in range(env.size):\n",
        "            if sum(np.char.count(env.board[:, i], 'x')) == env.size - 1 and sum(np.char.count(env.board[:, i], 'o')) == 0:\n",
        "                for j in range(env.size):\n",
        "                    if env.board[j, i] == '': \n",
        "                        return (j, i)\n",
        "\n",
        "        # Win along any diagonal\n",
        "        if sum(np.char.count(env.board.diagonal(), 'x')) == env.size - 1 and sum(np.char.count(env.board.diagonal(), 'o')) == 0:\n",
        "            for i in range(env.size):\n",
        "                if env.board[i, i] == '':\n",
        "                    return (i, i)\n",
        "\n",
        "        if sum(np.char.count((env.board[::-1]).diagonal(), 'x')) == env.size - 1 and sum(np.char.count((env.board[::-1]).diagonal(), 'o')) == 0:\n",
        "            for i in range(env.size):\n",
        "                if env.board[i, env.size - 1 - i] == '':\n",
        "                    return (i, env.size - 1 - i)\n",
        "\n",
        "\n",
        "        # Block along any row\n",
        "        for i in range(env.size):\n",
        "            if sum(np.char.count(env.board[i, :], 'o')) == env.size - 1 and sum(np.char.count(env.board[i, :], 'x')) == 0:\n",
        "                for j in range(env.size):\n",
        "                    if env.board[i, j] == '': \n",
        "                        return (i, j)\n",
        "\n",
        "        # Block along any column\n",
        "        for i in range(env.size):\n",
        "            if sum(np.char.count(env.board[:, i], 'o')) == env.size - 1 and sum(np.char.count(env.board[:, i], 'x')) == 0:\n",
        "                for j in range(env.size):\n",
        "                    if env.board[j, i] == '': \n",
        "                        return (j, i)\n",
        "\n",
        "        # Block along any diagonal\n",
        "        if sum(np.char.count(env.board.diagonal(), 'o')) == env.size - 1 and sum(np.char.count(env.board.diagonal(), 'x')) == 0:\n",
        "            for i in range(env.size):\n",
        "                if env.board[i, i] == '':\n",
        "                    return (i, i)\n",
        "\n",
        "        if sum(np.char.count((env.board[::-1]).diagonal(), 'o')) == env.size - 1 and sum(np.char.count((env.board[::-1]).diagonal(), 'x')) == 0:\n",
        "            for i in range(env.size):\n",
        "                if env.board[i, env.size - 1 - i] == '':\n",
        "                    return (i, env.size - 1 - i)\n",
        "\n",
        "        # No available safe moves\n",
        "        # Pick a random action\n",
        "        positions = env.availablepositions()\n",
        "        return random.choice(positions)"
      ],
      "metadata": {
        "id": "oVPwrvHAPCWR"
      },
      "execution_count": 485,
      "outputs": []
    },
    {
      "cell_type": "code",
      "source": [
        "class MCTSAgent():\n",
        "    def __init__(self, K):\n",
        "        self.K = K\n",
        "    def policy(self, env):\n",
        "        self.player = env.player\n",
        "        self.board = env.board.copy()\n",
        "        if env.player == 'o':\n",
        "            for i in range(board_size):\n",
        "                for j in range(board_size):\n",
        "                    if self.board[i, j] == 'x':\n",
        "                        self.board[i, j] = 'p'\n",
        "                    if self.board[i, j] == 'o':\n",
        "                        self.board[i, j] = 'q'\n",
        "            for i in range(board_size):\n",
        "                for j in range(board_size):\n",
        "                    if self.board[i, j] == 'p':\n",
        "                        self.board[i, j] = 'o'\n",
        "                    if self.board[i, j] == 'q':\n",
        "                        self.board[i, j] = 'x'\n",
        "        n = Node('x', None, self.board)\n",
        "        m = MCTS(n, self.K)\n",
        "        (i, j) = m.mcts()\n",
        "        return (i, j)"
      ],
      "metadata": {
        "id": "rk1tcK2THnNI"
      },
      "execution_count": 486,
      "outputs": []
    },
    {
      "cell_type": "markdown",
      "source": [
        "# Testing the efficacy of the MCTS agent "
      ],
      "metadata": {
        "id": "iGAM0ous-bmY"
      }
    },
    {
      "cell_type": "markdown",
      "source": [
        "A suitable board configuration in which the MCTS agent is one move away from win"
      ],
      "metadata": {
        "id": "3bTIMj6DEILp"
      }
    },
    {
      "cell_type": "code",
      "source": [
        "ex_board = np.array([['x','o','o'], ['','x',''], ['','','']])\n",
        "print('Given board position')\n",
        "print(ex_board)\n",
        "n = Node('x', None, ex_board.copy())\n",
        "m = MCTS(n, 1000)\n",
        "print('Move by MCTS')\n",
        "(i, j) = m.mcts()\n",
        "print('(',i,',' ,j,')')\n",
        "print('Final board position')\n",
        "ex_board[i, j] = 'x'\n",
        "print(ex_board)"
      ],
      "metadata": {
        "colab": {
          "base_uri": "https://localhost:8080/"
        },
        "id": "aJV_Kr6GMvMj",
        "outputId": "9956ebb3-033e-4a98-b530-0f738bc6428d"
      },
      "execution_count": 487,
      "outputs": [
        {
          "output_type": "stream",
          "name": "stdout",
          "text": [
            "Given board position\n",
            "[['x' 'o' 'o']\n",
            " ['' 'x' '']\n",
            " ['' '' '']]\n",
            "Move by MCTS\n",
            "( 2 , 2 )\n",
            "Final board position\n",
            "[['x' 'o' 'o']\n",
            " ['' 'x' '']\n",
            " ['' '' 'x']]\n"
          ]
        }
      ]
    },
    {
      "cell_type": "markdown",
      "source": [
        "A suitable board configuration in which the MCTS agent is one move away from loss"
      ],
      "metadata": {
        "id": "45xHP2HrEqJ5"
      }
    },
    {
      "cell_type": "code",
      "source": [
        "ex_board = np.array([['o','x',''], ['x','o',''], ['o','','']])\n",
        "print('Given board position')\n",
        "print(ex_board)\n",
        "n = Node('x', None, ex_board.copy())\n",
        "m = MCTS(n, 1000)\n",
        "print('Move by MCTS')\n",
        "(i, j) = m.mcts()\n",
        "print('(',i,',' ,j,')')\n",
        "print('Final board position')\n",
        "ex_board[i, j] = 'x'\n",
        "print(ex_board)"
      ],
      "metadata": {
        "colab": {
          "base_uri": "https://localhost:8080/"
        },
        "id": "C9PDKWu1EfdJ",
        "outputId": "5225b96d-e9b7-4648-faaa-8913ad353c46"
      },
      "execution_count": 488,
      "outputs": [
        {
          "output_type": "stream",
          "name": "stdout",
          "text": [
            "Given board position\n",
            "[['o' 'x' '']\n",
            " ['x' 'o' '']\n",
            " ['o' '' '']]\n",
            "Move by MCTS\n",
            "( 2 , 2 )\n",
            "Final board position\n",
            "[['o' 'x' '']\n",
            " ['x' 'o' '']\n",
            " ['o' '' 'x']]\n"
          ]
        }
      ]
    },
    {
      "cell_type": "markdown",
      "source": [
        "The board configuration where the opponent has made the first move and has occupied\n",
        "the centre square"
      ],
      "metadata": {
        "id": "whzFtV7pF19i"
      }
    },
    {
      "cell_type": "code",
      "source": [
        "ex_board = np.array([['','',''], ['','o',''], ['','','']])\n",
        "print('Given board position')\n",
        "print(ex_board)\n",
        "n = Node('x', None, ex_board.copy())\n",
        "m = MCTS(n, 500)\n",
        "print('Move by MCTS')\n",
        "(i, j) = m.mcts()\n",
        "print('(',i,',' ,j,')')\n",
        "print('Final board position')\n",
        "ex_board[i, j] = 'x'\n",
        "print(ex_board)"
      ],
      "metadata": {
        "colab": {
          "base_uri": "https://localhost:8080/"
        },
        "id": "YSgfxwnwF0wC",
        "outputId": "dc5824fe-e773-4058-8b57-fa780ea7f8b6"
      },
      "execution_count": 489,
      "outputs": [
        {
          "output_type": "stream",
          "name": "stdout",
          "text": [
            "Given board position\n",
            "[['' '' '']\n",
            " ['' 'o' '']\n",
            " ['' '' '']]\n",
            "Move by MCTS\n",
            "( 2 , 2 )\n",
            "Final board position\n",
            "[['' '' '']\n",
            " ['' 'o' '']\n",
            " ['' '' 'x']]\n"
          ]
        }
      ]
    },
    {
      "cell_type": "markdown",
      "source": [
        "# Play against Random Agent"
      ],
      "metadata": {
        "id": "zHTXV2oxHB7Y"
      }
    },
    {
      "cell_type": "code",
      "source": [
        "def test(agent, opponent, num_games):\n",
        "    num_wins = 0\n",
        "    num_draws = 0\n",
        "    for i in range(num_games):\n",
        "        env = Tictactoe(board_size)\n",
        "\n",
        "        while(env.end == False):\n",
        "            env.act(agent.policy(env))\n",
        "\n",
        "            winner = env.checkwinner()\n",
        "            if winner == -1:\n",
        "                env.act(opponent.policy(env))\n",
        "                winner = env.checkwinner()\n",
        "        \n",
        "        if (env.checkwinner() == 'x'): num_wins += 1\n",
        "        if (env.checkwinner() == 0): num_draws += 1\n",
        "\n",
        "    return num_wins, num_draws"
      ],
      "metadata": {
        "id": "mh5yqmzPTRSP"
      },
      "execution_count": 490,
      "outputs": []
    },
    {
      "cell_type": "code",
      "source": [
        "K = 100\n",
        "\n",
        "# Testing with Random Agent\n",
        "random_agent_test = RandomAgent()\n",
        "agent = MCTSAgent(K)\n",
        "win_count = 0\n",
        "draw_count = 0\n",
        "for i in range(1000):\n",
        "    x, y = test(agent, random_agent_test, 1)\n",
        "    win_count += x\n",
        "    draw_count += y\n",
        "\n",
        "print('Wins against Random agent: ', win_count)\n",
        "print('Draw against Random agent: ', draw_count)\n",
        "print('Loss against Random agent: ', 1000 - win_count - draw_count)"
      ],
      "metadata": {
        "colab": {
          "base_uri": "https://localhost:8080/"
        },
        "id": "T8lucnjzPSMj",
        "outputId": "c2d68533-c79d-4e25-e67d-f5f482cb67dd"
      },
      "execution_count": 491,
      "outputs": [
        {
          "output_type": "stream",
          "name": "stdout",
          "text": [
            "Wins against Random agent:  968\n",
            "Draw against Random agent:  26\n",
            "Loss against Random agent:  6\n"
          ]
        }
      ]
    },
    {
      "cell_type": "code",
      "source": [
        "K = 100\n",
        "\n",
        "# Testing with Safe Agent\n",
        "random_agent_test = SafeAgent()\n",
        "agent = MCTSAgent(K)\n",
        "win_count = 0\n",
        "draw_count = 0\n",
        "for i in range(1000):\n",
        "    x, y = test(agent, random_agent_test, 1)\n",
        "    win_count += x\n",
        "    draw_count += y\n",
        "\n",
        "print('Wins against Safe agent: ', win_count)\n",
        "print('Draw against Safe agent: ', draw_count)\n",
        "print('Loss against Safe agent: ', 1000 - win_count - draw_count)"
      ],
      "metadata": {
        "colab": {
          "base_uri": "https://localhost:8080/"
        },
        "id": "pNULtbKvS-Un",
        "outputId": "ffbf00cb-b875-4bab-8573-c4bb2aaf5c43"
      },
      "execution_count": 492,
      "outputs": [
        {
          "output_type": "stream",
          "name": "stdout",
          "text": [
            "Wins against Safe agent:  460\n",
            "Draw against Safe agent:  521\n",
            "Loss against Safe agent:  19\n"
          ]
        }
      ]
    },
    {
      "cell_type": "code",
      "source": [
        "K = 100\n",
        "\n",
        "# Testing with MCTS Agent\n",
        "random_agent_test = MCTSAgent(K)\n",
        "agent = MCTSAgent(K)\n",
        "win_count = 0\n",
        "draw_count = 0\n",
        "for i in range(1000):\n",
        "    x, y = test(agent, random_agent_test, 1)\n",
        "    win_count += x\n",
        "    draw_count += y\n",
        "\n",
        "print('Wins against MCTS agent: ', win_count)\n",
        "print('Draw against MCTS agent: ', draw_count)\n",
        "print('Loss against MCTS agent: ', 1000 - win_count - draw_count)"
      ],
      "metadata": {
        "colab": {
          "base_uri": "https://localhost:8080/"
        },
        "id": "wOrxAdkOTKJu",
        "outputId": "0510b4ef-18cd-477e-e1ef-9591a2e40e41"
      },
      "execution_count": 494,
      "outputs": [
        {
          "output_type": "stream",
          "name": "stdout",
          "text": [
            "Wins against MCTS agent:  585\n",
            "Draw against MCTS agent:  351\n",
            "Loss against MCTS agent:  64\n"
          ]
        }
      ]
    }
  ]
}